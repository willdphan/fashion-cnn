{
  "nbformat": 4,
  "nbformat_minor": 0,
  "metadata": {
    "colab": {
      "provenance": [],
      "include_colab_link": true
    },
    "kernelspec": {
      "name": "python3",
      "display_name": "Python 3"
    },
    "language_info": {
      "name": "python"
    },
    "gpuClass": "standard",
    "accelerator": "GPU"
  },
  "cells": [
    {
      "cell_type": "markdown",
      "metadata": {
        "id": "view-in-github",
        "colab_type": "text"
      },
      "source": [
        "<a href=\"https://colab.research.google.com/github/willdphan/fashion-cnn/blob/main/CNN_Fashion_Classifier_on_MNIST.ipynb\" target=\"_parent\"><img src=\"https://colab.research.google.com/assets/colab-badge.svg\" alt=\"Open In Colab\"/></a>"
      ]
    },
    {
      "cell_type": "code",
      "execution_count": null,
      "metadata": {
        "id": "Da5dPCYHSNc8"
      },
      "outputs": [],
      "source": [
        "import torch\n",
        "import torchvision\n",
        "import torchvision.transforms as transforms"
      ]
    },
    {
      "cell_type": "code",
      "source": [
        "torch.cuda.is_available()"
      ],
      "metadata": {
        "colab": {
          "base_uri": "https://localhost:8080/"
        },
        "id": "VOHCJKdTTSW2",
        "outputId": "2f6ca538-b9ea-406c-a12f-08642e3317ae"
      },
      "execution_count": null,
      "outputs": [
        {
          "output_type": "execute_result",
          "data": {
            "text/plain": [
              "True"
            ]
          },
          "metadata": {},
          "execution_count": 31
        }
      ]
    },
    {
      "cell_type": "code",
      "source": [
        "device = 'cuda:0' if torch.cuda.is_available() else 'cpu'\n",
        "device"
      ],
      "metadata": {
        "colab": {
          "base_uri": "https://localhost:8080/",
          "height": 35
        },
        "id": "b0YgBs-rTVdl",
        "outputId": "a31f5937-4606-4ccb-dfae-38137e891a23"
      },
      "execution_count": null,
      "outputs": [
        {
          "output_type": "execute_result",
          "data": {
            "text/plain": [
              "'cuda:0'"
            ],
            "application/vnd.google.colaboratory.intrinsic+json": {
              "type": "string"
            }
          },
          "metadata": {},
          "execution_count": 32
        }
      ]
    },
    {
      "cell_type": "code",
      "source": [
        "# preprocessing step in ml tasks that involve images. converts images into tensors\n",
        "# to allows us to convert image data compatible by ml models\n",
        "transform = transforms.ToTensor()\n",
        "# defines the number of examples processed in a single iteration\n",
        "batch_size = 8\n",
        "\n",
        "# initializes the data set and shows training process. \n",
        "# Downloads the data set from internet\n",
        "# Transform converts the image data to PyTorch tensors \n",
        "# and scales the pixel values from [0, 255] to [0, 1]\n",
        "# images are typically represented as integers in the range [0, 255]\n",
        "# THIS IS THE TRAINSET\n",
        "trainset = torchvision.datasets.FashionMNIST(root='./data', train=True,\n",
        "                                        download=True, transform=transform)\n",
        "\n",
        "# initializes the data set and does not show training process\n",
        "# Downloads the data set from internet\n",
        "# Transfroms converts the image data to PyTorch tensors \n",
        "# and scales the pixel values from [0, 255] to [0, 1]\n",
        "# THIS IS THE TESTSET\n",
        "testset = torchvision.datasets.FashionMNIST(root='./data', train=False,\n",
        "                                       download=True, transform=transform)\n",
        "\n",
        "# both above datasets are used to train and evaluate the\n",
        "# performance of the deep learning model, respectively.\n",
        "\n",
        "# Each image in the dataset is assigned a label that corresponds to one of \n",
        "# these 10 classes, and during training, the deep learning model learns to \n",
        "# predict the correct label for each image\n",
        "classes = ('T-shirt/top', 'Trouser/pants','Pullover shirt','Dress','Coat','Sandal',\n",
        "           'Shirt','Sneaker','Bag','Ankle boot')"
      ],
      "metadata": {
        "id": "esvXXaLpTaWs"
      },
      "execution_count": null,
      "outputs": []
    },
    {
      "cell_type": "code",
      "source": [
        "# creates the iterator for the trainset data. Iterates over elements of a dataset\n",
        "train_iter = iter(trainset)\n",
        "# next() fetches items for iterator. When called, it advances the iterator to \n",
        "# the next element and returns the element. image and label are assigned values to be returned\n",
        "image, label = next(train_iter)\n",
        "# return the shape of the tensor as a tuple, and the number of labels\n",
        "image.shape, label"
      ],
      "metadata": {
        "colab": {
          "base_uri": "https://localhost:8080/"
        },
        "id": "bv61q2CRTscr",
        "outputId": "a6f8899f-38a1-4ea4-c7bd-2220183d30a3"
      },
      "execution_count": null,
      "outputs": [
        {
          "output_type": "execute_result",
          "data": {
            "text/plain": [
              "(torch.Size([1, 28, 28]), 9)"
            ]
          },
          "metadata": {},
          "execution_count": 34
        }
      ]
    },
    {
      "cell_type": "code",
      "source": [
        "# returns the min and max value in the image tensor\n",
        "# By calling .item() on each of these tensors, we convert them to Python integers, \n",
        "# which allows us to print them as part of a string using the print() function\n",
        "torch.min(image).item(), torch.max(image).item()"
      ],
      "metadata": {
        "colab": {
          "base_uri": "https://localhost:8080/"
        },
        "id": "Rl69nSx9T31c",
        "outputId": "f0cc6ed0-d29f-4e1e-bed3-a7f941615a51"
      },
      "execution_count": null,
      "outputs": [
        {
          "output_type": "execute_result",
          "data": {
            "text/plain": [
              "(0.0, 1.0)"
            ]
          },
          "metadata": {},
          "execution_count": 35
        }
      ]
    },
    {
      "cell_type": "code",
      "source": [
        "import matplotlib.pyplot as plt\n",
        "import numpy as np\n",
        "# converts image tensor to numpy array\n",
        "np_img = image.numpy()\n",
        "# prints class label of image\n",
        "print(classes[label])\n",
        "# displays image using matplotlib\n",
        "# reshape, reshapes numpy array into 28x28x1, the required shape to display greyscale\n",
        "# images in matplotlib\n",
        "plt.imshow(np_img.reshape((28, 28, 1)))"
      ],
      "metadata": {
        "colab": {
          "base_uri": "https://localhost:8080/",
          "height": 465
        },
        "id": "7qvTgLAUUFjk",
        "outputId": "eca2e2a4-e11f-45eb-d8a7-36b3366ba140"
      },
      "execution_count": null,
      "outputs": [
        {
          "output_type": "stream",
          "name": "stdout",
          "text": [
            "Ankle boot\n"
          ]
        },
        {
          "output_type": "execute_result",
          "data": {
            "text/plain": [
              "<matplotlib.image.AxesImage at 0x7f806a35ec70>"
            ]
          },
          "metadata": {},
          "execution_count": 36
        },
        {
          "output_type": "display_data",
          "data": {
            "text/plain": [
              "<Figure size 640x480 with 1 Axes>"
            ],
            "image/png": "[encoded data removed]"
          },
          "metadata": {}
        }
      ]
    },
    {
      "cell_type": "code",
      "source": [
        "# print the (length) of samples in the training and dataset\n",
        "len(trainset), len(testset)"
      ],
      "metadata": {
        "colab": {
          "base_uri": "https://localhost:8080/"
        },
        "id": "qQXC6gXJUmPL",
        "outputId": "5f6e7ada-f5ac-4df2-b208-7b1994c4a1e4"
      },
      "execution_count": null,
      "outputs": [
        {
          "output_type": "execute_result",
          "data": {
            "text/plain": [
              "(60000, 10000)"
            ]
          },
          "metadata": {},
          "execution_count": 37
        }
      ]
    },
    {
      "cell_type": "code",
      "source": [
        "# splits the training set into a 50,000 training set and a validation set with 10,000 samples\n",
        "trainset, valset = torch.utils.data.random_split(trainset, [50000, 10000])\n",
        "# then prints the lengths of these samples\n",
        "# remaining testset (10,000) is used for eval the model on unseen data\n",
        "len(trainset), len(valset), len(testset)"
      ],
      "metadata": {
        "colab": {
          "base_uri": "https://localhost:8080/"
        },
        "id": "jKEJe7irU2l7",
        "outputId": "d13d2322-6094-4923-99cd-88805267669d"
      },
      "execution_count": null,
      "outputs": [
        {
          "output_type": "execute_result",
          "data": {
            "text/plain": [
              "(50000, 10000, 10000)"
            ]
          },
          "metadata": {},
          "execution_count": 38
        }
      ]
    },
    {
      "cell_type": "code",
      "source": [
        "print(f'Number of batches in the training set: {int(50000 / batch_size)}')"
      ],
      "metadata": {
        "colab": {
          "base_uri": "https://localhost:8080/"
        },
        "id": "11GjhMnnVitC",
        "outputId": "5e6014dc-96c1-435f-ab57-255bc1208794"
      },
      "execution_count": null,
      "outputs": [
        {
          "output_type": "stream",
          "name": "stdout",
          "text": [
            "Number of batches in the training set: 6250\n"
          ]
        }
      ]
    },
    {
      "cell_type": "code",
      "source": [
        "print(f'Number of batches in the validation set: {int(10000 / batch_size)}')"
      ],
      "metadata": {
        "colab": {
          "base_uri": "https://localhost:8080/"
        },
        "id": "GpGNlyNpVql0",
        "outputId": "2267c3d0-772c-4554-dc67-d0de7aafac41"
      },
      "execution_count": null,
      "outputs": [
        {
          "output_type": "stream",
          "name": "stdout",
          "text": [
            "Number of batches in the validation set: 1250\n"
          ]
        }
      ]
    },
    {
      "cell_type": "code",
      "source": [
        "# returns the trainset object\n",
        "type(trainset)"
      ],
      "metadata": {
        "colab": {
          "base_uri": "https://localhost:8080/"
        },
        "id": "1DptfI2GVxB7",
        "outputId": "d6f495df-26ab-4fcd-89f7-444cb83da8ca"
      },
      "execution_count": null,
      "outputs": [
        {
          "output_type": "execute_result",
          "data": {
            "text/plain": [
              "torch.utils.data.dataset.Subset"
            ]
          },
          "metadata": {},
          "execution_count": 41
        }
      ]
    },
    {
      "cell_type": "code",
      "source": [
        "# creates data loaders for the three sets which provides batches of data as you iterate over\n",
        "# during training or evaluation\n",
        "# data is fixed in val and test for unbiased estimates.\n",
        "# The num_workers argument specifies the number of worker threads to use\n",
        "\n",
        "trainloader = torch.utils.data.DataLoader(trainset, batch_size=batch_size,\n",
        "                                          shuffle=True, num_workers=2)\n",
        "\n",
        "valloader = torch.utils.data.DataLoader(valset, batch_size=batch_size,\n",
        "                                          shuffle=False, num_workers=2)\n",
        "\n",
        "testloader = torch.utils.data.DataLoader(testset, batch_size=batch_size,\n",
        "                                         shuffle=False, num_workers=2)"
      ],
      "metadata": {
        "id": "i3l_s-ebV-lB"
      },
      "execution_count": null,
      "outputs": []
    },
    {
      "cell_type": "code",
      "source": [
        "import torch.nn as nn\n",
        "import torch.nn.functional as F\n",
        "\n",
        "# NN Model\n",
        "class NeuralNet(nn.Module):\n",
        "    # tells network what it has\n",
        "    def __init__(self):\n",
        "        super().__init__()\n",
        "        # first conv layer\n",
        "        # in_channels = 1 bcuz grey scale imgs\n",
        "        # out_channels = 256 bcuz we convert 1 into 256 depth (filters)\n",
        "        # kernal_size = 3 for a 3x3 window, image converted to 26x26x1\n",
        "        self.conv1 = nn.Conv2d(in_channels=1, out_channels=256, kernel_size=3)\n",
        "        # often accompanies conv layer.\n",
        "        # takes 2x2 windows and take the max value of those\n",
        "        self.pool1 = nn.MaxPool2d(2, 2)\n",
        "\n",
        "        self.conv2 = nn.Conv2d(in_channels=256, out_channels=512, kernel_size=3)\n",
        "        self.pool2 = nn.MaxPool2d(2, 2)\n",
        "\n",
        "        self.conv3 = nn.Conv2d(in_channels=512, out_channels=1024, kernel_size=2)\n",
        "        self.pool3 = nn.MaxPool2d(2, 2)\n",
        "\n",
        "\n",
        "        # make the long skinny image into a super long vector - flatten it out\n",
        "        self.flatten = nn.Flatten()\n",
        "\n",
        "        # linear layers transforms data\n",
        "        # in_features = 4069, stretched out vector\n",
        "        # out_features = 1024 vectors, a smaller power of 2\n",
        "        self.fc1 = nn.Linear(in_features=4096, out_features=1024)\n",
        "        # give values a 30% to dropout, great for overfitting problem\n",
        "        self.drop1 = nn.Dropout(p=0.3)\n",
        "\n",
        "        # below adds one more linear dropout combinations\n",
        "        self.fc2 = nn.Linear(in_features=1024, out_features=1024)\n",
        "        self.drop2 = nn.Dropout(p=0.3)\n",
        "        \n",
        "        # add output layer with no dropout and end in 10 values bcuz \n",
        "        self.out = nn.Linear(in_features=1024, out_features=10)\n",
        "\n",
        "    # this function invokes the layers above. Runs batch of images thru (X) \n",
        "    # convo layer\n",
        "    # Tells network how it works\n",
        "    # takes 'self' to access the layers and 'x' which is basically whatever \n",
        "    # you're throwing in it (batch of images in this case)\n",
        "    def forward(self, x):\n",
        "      # runs 'x' thru the conv1 layer\n",
        "      x = F.relu(self.conv1(x))\n",
        "      # runs 'x' thru the pool\n",
        "      x = self.pool1(x)\n",
        "\n",
        "      x = F.relu(self.conv2(x))\n",
        "      x = self.pool2(x)\n",
        "\n",
        "      x = F.relu(self.conv3(x))\n",
        "      x = self.pool3(x)\n",
        "\n",
        "      x = self.flatten(x)\n",
        "\n",
        "      x = F.relu(self.fc1(x))\n",
        "      x = self.drop1(x)\n",
        "\n",
        "      x = F.relu(self.fc2(x))\n",
        "      x = self.drop2(x)\n",
        "\n",
        "      x = self.out(x)\n",
        "\n",
        "      # returns tensor\n",
        "      return x"
      ],
      "metadata": {
        "id": "vqKVh9gVWMUJ"
      },
      "execution_count": null,
      "outputs": []
    },
    {
      "cell_type": "code",
      "source": [
        "# declare the 'net' class\n",
        "net = NeuralNet()\n",
        "# moves the network to the appropriate device - CPU or GPU\n",
        "net.to(device)"
      ],
      "metadata": {
        "colab": {
          "base_uri": "https://localhost:8080/"
        },
        "id": "XC6lWyCpZCy9",
        "outputId": "97ca97b1-64c4-4005-b700-f979c4172634"
      },
      "execution_count": null,
      "outputs": [
        {
          "output_type": "execute_result",
          "data": {
            "text/plain": [
              "NeuralNet(\n",
              "  (conv1): Conv2d(1, 256, kernel_size=(3, 3), stride=(1, 1))\n",
              "  (pool1): MaxPool2d(kernel_size=2, stride=2, padding=0, dilation=1, ceil_mode=False)\n",
              "  (conv2): Conv2d(256, 512, kernel_size=(3, 3), stride=(1, 1))\n",
              "  (pool2): MaxPool2d(kernel_size=2, stride=2, padding=0, dilation=1, ceil_mode=False)\n",
              "  (conv3): Conv2d(512, 1024, kernel_size=(2, 2), stride=(1, 1))\n",
              "  (pool3): MaxPool2d(kernel_size=2, stride=2, padding=0, dilation=1, ceil_mode=False)\n",
              "  (flatten): Flatten(start_dim=1, end_dim=-1)\n",
              "  (fc1): Linear(in_features=4096, out_features=1024, bias=True)\n",
              "  (drop1): Dropout(p=0.3, inplace=False)\n",
              "  (fc2): Linear(in_features=1024, out_features=1024, bias=True)\n",
              "  (drop2): Dropout(p=0.3, inplace=False)\n",
              "  (out): Linear(in_features=1024, out_features=10, bias=True)\n",
              ")"
            ]
          },
          "metadata": {},
          "execution_count": 44
        }
      ]
    },
    {
      "cell_type": "code",
      "source": [
        "for i, data in enumerate(trainloader):\n",
        "    # unpacks the data tuple \n",
        "    inputs, labels = data[0].to(device), data[1].to(device)\n",
        "    # shows the shape of images before it goes into network\n",
        "    print(f'input shape: {inputs.shape}')\n",
        "    # shows the shape of images after it goes into network\n",
        "    print(f'after network shape: {net(inputs).shape}')\n",
        "    break"
      ],
      "metadata": {
        "colab": {
          "base_uri": "https://localhost:8080/"
        },
        "id": "iULK0aXEZQ9P",
        "outputId": "343c4feb-8d64-496e-bed8-db9189a4c6dd"
      },
      "execution_count": null,
      "outputs": [
        {
          "output_type": "stream",
          "name": "stdout",
          "text": [
            "input shape: torch.Size([8, 1, 28, 28])\n",
            "after network shape: torch.Size([8, 10])\n"
          ]
        }
      ]
    },
    {
      "cell_type": "code",
      "source": [
        "num_params = 0\n",
        "# iterate thru number of params and get total # params\n",
        "for x in net.parameters():\n",
        "  num_params += len(torch.flatten(x))\n",
        "\n",
        "print(f'Number of parameters in the model: {num_params:,}')"
      ],
      "metadata": {
        "colab": {
          "base_uri": "https://localhost:8080/"
        },
        "id": "y8H3OZApZoSO",
        "outputId": "be48a678-ac44-4cbe-920e-eefa728067b8"
      },
      "execution_count": null,
      "outputs": [
        {
          "output_type": "stream",
          "name": "stdout",
          "text": [
            "Number of parameters in the model: 8,536,074\n"
          ]
        }
      ]
    },
    {
      "cell_type": "code",
      "source": [
        "import torch.optim as optim\n",
        "\n",
        "# if u don't end in a softmax\n",
        "criterion = nn.CrossEntropyLoss()\n",
        "# pass in out params and learning rate\n",
        "optimizer = optim.Adam(net.parameters(), lr=0.0001)"
      ],
      "metadata": {
        "id": "MhrPoDPBgybm"
      },
      "execution_count": null,
      "outputs": []
    },
    {
      "cell_type": "code",
      "source": [
        "# train for 1 epoch\n",
        "def train_one_epoch():\n",
        "  net.train(True)\n",
        "\n",
        "  running_loss = 0.0\n",
        "  running_accuracy = 0.0\n",
        "\n",
        "  # iterate over trainloader, each time you do, you get batch_index and data\n",
        "  # enumerating over the trainloader\n",
        "  for batch_index, data in enumerate(trainloader):\n",
        "    # we need imputs and labels, move each to our device (CPU or GPU)\n",
        "    inputs, labels = data[0].to(device), data[1].to(device)\n",
        "\n",
        "    # for a non-zero values for gradients, set them to zero to reset\n",
        "    optimizer.zero_grad()\n",
        "\n",
        "    # run inputs thru a network\n",
        "    outputs = net(inputs) # shape: [batch_size, 10]\n",
        "    # calc number of correct predictions we got is the where the torch.sum of \n",
        "    # the labels == our model predictions. It sums up the ones we got right\n",
        "    # then take the item and turn it into an integer between 0-8 how how many \n",
        "    # images the model go right for that batch\n",
        "    correct = torch.sum(labels == torch.argmax(outputs, dim=1)).item()\n",
        "    # get accuracy\n",
        "    running_accuracy += correct / batch_size\n",
        "\n",
        "    # loss value is the criterion - where it compares the outputs (predictions)\n",
        "    # to the labels (ground-truth)\n",
        "    loss = criterion(outputs, labels)\n",
        "    # whatever the loss is, keep track of it and add it to the runing_loss var\n",
        "    running_loss += loss.item()\n",
        "    # go thru the loss tensor and go thru model params and calculate gradients\n",
        "    loss.backward()\n",
        "    # takes a step and optimizes the model a little better to make the loss\n",
        "    # less on the next batch it receives\n",
        "    optimizer.step()\n",
        "\n",
        "    # every 500 batch\n",
        "    if batch_index % 500 == 499:  # print every 500 batches\n",
        "      # We get the average loss and divide by 500.\n",
        "      avg_loss_across_batches = running_loss / 500\n",
        "      # We get the average accuracy and divide by 500 and mult 100 so its not a\n",
        "      # fraction\n",
        "      avg_acc_across_batches = (running_accuracy / 500) * 100\n",
        "      print('Batch {0}, Loss: {1:.3f}, Accuracy: {2:.1f}%'.format(batch_index+1,\n",
        "                                                          avg_loss_across_batches,\n",
        "                                                          avg_acc_across_batches))\n",
        "      # Important, set both back to zero to avoid going higher than 100%\n",
        "      running_loss = 0.0\n",
        "      running_accuracy = 0.0\n",
        "\n",
        "  print()"
      ],
      "metadata": {
        "id": "XLFPG1sjmOdI"
      },
      "execution_count": null,
      "outputs": []
    },
    {
      "cell_type": "code",
      "source": [
        "# validate\n",
        "def validate_one_epoch():\n",
        "    net.train(False)\n",
        "    running_loss = 0.0\n",
        "    running_accuracy = 0.0\n",
        "    \n",
        "    # iterate through the validation loader\n",
        "    for i, data in enumerate(valloader):\n",
        "        # get images and labels batches\n",
        "        inputs, labels = data[0].to(device), data[1].to(device)\n",
        "        \n",
        "        # don't worry ab the gradients, bcuz we are not training model\n",
        "        with torch.no_grad(): \n",
        "            # same thing as before get everything except getting grads\n",
        "            outputs = net(inputs) # shape: [batch_size, 10]\n",
        "            correct = torch.sum(labels == torch.argmax(outputs, dim=1)).item()\n",
        "            running_accuracy += correct / batch_size\n",
        "            loss = criterion(outputs, labels) # One number, average batch loss\n",
        "            running_loss += loss.item()\n",
        "    \n",
        "    # calc average loss across batches. Val loader calculated above\n",
        "    avg_loss_across_batches = running_loss / len(valloader)\n",
        "    # calc average accuracy across batches x 100. Val loader calculated above\n",
        "    avg_acc_across_batches = (running_accuracy / len(valloader)) * 100\n",
        "    \n",
        "    print('Val Loss: {0:.3f}, Val Accuracy: {1:.1f}%'.format(avg_loss_across_batches,\n",
        "                                                            avg_acc_across_batches))\n",
        "    print('***************************************************')\n",
        "    print()"
      ],
      "metadata": {
        "id": "LvR78xwmsGh_"
      },
      "execution_count": null,
      "outputs": []
    },
    {
      "cell_type": "code",
      "source": [
        "# training loop\n",
        "# run thru 6250 batch of 8 images (1 training set) ten times\n",
        "num_epochs = 10\n",
        "\n",
        "# loop through 10 times (range(10))\n",
        "for epoch_index in range(num_epochs):\n",
        "    print(f'Epoch: {epoch_index + 1}\\n')\n",
        "    # train, each time we see a batch, we update the model\n",
        "    train_one_epoch()\n",
        "    # valuate the perfomance of the model on new data\n",
        "    validate_one_epoch()\n",
        "        \n",
        "print('Finished Training')"
      ],
      "metadata": {
        "colab": {
          "base_uri": "https://localhost:8080/"
        },
        "id": "PmeXH9yXjx_y",
        "outputId": "a63af5a1-3665-4ce0-dbed-91ea3e85143a"
      },
      "execution_count": null,
      "outputs": [
        {
          "output_type": "stream",
          "name": "stdout",
          "text": [
            "Epoch: 1\n",
            "\n",
            "Batch 500, Loss: 1.185, Accuracy: 54.6%\n",
            "Batch 1000, Loss: 0.720, Accuracy: 72.4%\n",
            "Batch 1500, Loss: 0.649, Accuracy: 75.9%\n",
            "Batch 2000, Loss: 0.585, Accuracy: 78.5%\n",
            "Batch 2500, Loss: 0.557, Accuracy: 78.1%\n",
            "Batch 3000, Loss: 0.507, Accuracy: 81.1%\n",
            "Batch 3500, Loss: 0.507, Accuracy: 80.7%\n",
            "Batch 4000, Loss: 0.482, Accuracy: 82.0%\n",
            "Batch 4500, Loss: 0.465, Accuracy: 83.5%\n",
            "Batch 5000, Loss: 0.467, Accuracy: 83.0%\n",
            "Batch 5500, Loss: 0.446, Accuracy: 84.2%\n",
            "Batch 6000, Loss: 0.425, Accuracy: 83.9%\n",
            "\n",
            "Val Loss: 0.377, Val Accuracy: 85.8%\n",
            "***************************************************\n",
            "\n",
            "Epoch: 2\n",
            "\n",
            "Batch 500, Loss: 0.386, Accuracy: 85.7%\n",
            "Batch 1000, Loss: 0.379, Accuracy: 86.2%\n",
            "Batch 1500, Loss: 0.382, Accuracy: 85.8%\n",
            "Batch 2000, Loss: 0.365, Accuracy: 86.9%\n",
            "Batch 2500, Loss: 0.355, Accuracy: 87.2%\n",
            "Batch 3000, Loss: 0.370, Accuracy: 86.2%\n",
            "Batch 3500, Loss: 0.341, Accuracy: 87.9%\n",
            "Batch 4000, Loss: 0.328, Accuracy: 88.3%\n",
            "Batch 4500, Loss: 0.334, Accuracy: 88.0%\n",
            "Batch 5000, Loss: 0.315, Accuracy: 88.1%\n",
            "Batch 5500, Loss: 0.331, Accuracy: 87.7%\n",
            "Batch 6000, Loss: 0.321, Accuracy: 87.8%\n",
            "\n",
            "Val Loss: 0.313, Val Accuracy: 88.8%\n",
            "***************************************************\n",
            "\n",
            "Epoch: 3\n",
            "\n",
            "Batch 500, Loss: 0.311, Accuracy: 88.6%\n",
            "Batch 1000, Loss: 0.295, Accuracy: 89.3%\n",
            "Batch 1500, Loss: 0.301, Accuracy: 88.8%\n",
            "Batch 2000, Loss: 0.287, Accuracy: 89.7%\n",
            "Batch 2500, Loss: 0.278, Accuracy: 89.6%\n",
            "Batch 3000, Loss: 0.290, Accuracy: 90.0%\n",
            "Batch 3500, Loss: 0.284, Accuracy: 90.1%\n",
            "Batch 4000, Loss: 0.290, Accuracy: 89.2%\n",
            "Batch 4500, Loss: 0.286, Accuracy: 89.7%\n",
            "Batch 5000, Loss: 0.282, Accuracy: 89.8%\n",
            "Batch 5500, Loss: 0.287, Accuracy: 89.6%\n",
            "Batch 6000, Loss: 0.276, Accuracy: 89.8%\n",
            "\n",
            "Val Loss: 0.263, Val Accuracy: 90.5%\n",
            "***************************************************\n",
            "\n",
            "Epoch: 4\n",
            "\n",
            "Batch 500, Loss: 0.227, Accuracy: 91.8%\n",
            "Batch 1000, Loss: 0.247, Accuracy: 91.0%\n",
            "Batch 1500, Loss: 0.262, Accuracy: 90.5%\n",
            "Batch 2000, Loss: 0.256, Accuracy: 90.3%\n",
            "Batch 2500, Loss: 0.264, Accuracy: 90.4%\n",
            "Batch 3000, Loss: 0.250, Accuracy: 90.8%\n",
            "Batch 3500, Loss: 0.285, Accuracy: 89.8%\n",
            "Batch 4000, Loss: 0.243, Accuracy: 90.8%\n",
            "Batch 4500, Loss: 0.242, Accuracy: 91.1%\n",
            "Batch 5000, Loss: 0.255, Accuracy: 91.3%\n",
            "Batch 5500, Loss: 0.246, Accuracy: 91.1%\n",
            "Batch 6000, Loss: 0.250, Accuracy: 91.1%\n",
            "\n",
            "Val Loss: 0.276, Val Accuracy: 89.4%\n",
            "***************************************************\n",
            "\n",
            "Epoch: 5\n",
            "\n",
            "Batch 500, Loss: 0.224, Accuracy: 91.6%\n",
            "Batch 1000, Loss: 0.231, Accuracy: 91.4%\n",
            "Batch 1500, Loss: 0.227, Accuracy: 91.7%\n",
            "Batch 2000, Loss: 0.200, Accuracy: 92.8%\n",
            "Batch 2500, Loss: 0.213, Accuracy: 92.0%\n",
            "Batch 3000, Loss: 0.229, Accuracy: 91.5%\n",
            "Batch 3500, Loss: 0.229, Accuracy: 91.5%\n",
            "Batch 4000, Loss: 0.224, Accuracy: 91.6%\n",
            "Batch 4500, Loss: 0.221, Accuracy: 92.2%\n",
            "Batch 5000, Loss: 0.231, Accuracy: 91.8%\n",
            "Batch 5500, Loss: 0.237, Accuracy: 91.3%\n",
            "Batch 6000, Loss: 0.232, Accuracy: 91.5%\n",
            "\n",
            "Val Loss: 0.239, Val Accuracy: 91.3%\n",
            "***************************************************\n",
            "\n",
            "Epoch: 6\n",
            "\n",
            "Batch 500, Loss: 0.194, Accuracy: 92.6%\n",
            "Batch 1000, Loss: 0.190, Accuracy: 92.8%\n",
            "Batch 1500, Loss: 0.202, Accuracy: 92.6%\n",
            "Batch 2000, Loss: 0.202, Accuracy: 92.2%\n",
            "Batch 2500, Loss: 0.199, Accuracy: 92.8%\n",
            "Batch 3000, Loss: 0.195, Accuracy: 92.8%\n",
            "Batch 3500, Loss: 0.189, Accuracy: 93.4%\n",
            "Batch 4000, Loss: 0.196, Accuracy: 92.8%\n",
            "Batch 4500, Loss: 0.211, Accuracy: 92.1%\n",
            "Batch 5000, Loss: 0.193, Accuracy: 93.0%\n",
            "Batch 5500, Loss: 0.195, Accuracy: 92.5%\n",
            "Batch 6000, Loss: 0.205, Accuracy: 92.1%\n",
            "\n",
            "Val Loss: 0.227, Val Accuracy: 91.4%\n",
            "***************************************************\n",
            "\n",
            "Epoch: 7\n",
            "\n",
            "Batch 500, Loss: 0.166, Accuracy: 94.0%\n",
            "Batch 1000, Loss: 0.166, Accuracy: 93.9%\n",
            "Batch 1500, Loss: 0.153, Accuracy: 94.2%\n",
            "Batch 2000, Loss: 0.182, Accuracy: 93.5%\n",
            "Batch 2500, Loss: 0.178, Accuracy: 93.0%\n",
            "Batch 3000, Loss: 0.166, Accuracy: 93.8%\n",
            "Batch 3500, Loss: 0.178, Accuracy: 93.3%\n",
            "Batch 4000, Loss: 0.173, Accuracy: 93.4%\n",
            "Batch 4500, Loss: 0.186, Accuracy: 93.2%\n",
            "Batch 5000, Loss: 0.172, Accuracy: 93.8%\n",
            "Batch 5500, Loss: 0.186, Accuracy: 93.2%\n",
            "Batch 6000, Loss: 0.175, Accuracy: 93.3%\n",
            "\n",
            "Val Loss: 0.232, Val Accuracy: 91.6%\n",
            "***************************************************\n",
            "\n",
            "Epoch: 8\n",
            "\n",
            "Batch 500, Loss: 0.137, Accuracy: 95.1%\n",
            "Batch 1000, Loss: 0.150, Accuracy: 94.4%\n",
            "Batch 1500, Loss: 0.148, Accuracy: 94.4%\n",
            "Batch 2000, Loss: 0.162, Accuracy: 94.2%\n",
            "Batch 2500, Loss: 0.159, Accuracy: 94.2%\n",
            "Batch 3000, Loss: 0.150, Accuracy: 94.6%\n",
            "Batch 3500, Loss: 0.158, Accuracy: 94.4%\n",
            "Batch 4000, Loss: 0.158, Accuracy: 94.1%\n",
            "Batch 4500, Loss: 0.135, Accuracy: 94.4%\n",
            "Batch 5000, Loss: 0.156, Accuracy: 94.2%\n",
            "Batch 5500, Loss: 0.150, Accuracy: 94.5%\n",
            "Batch 6000, Loss: 0.165, Accuracy: 94.1%\n",
            "\n",
            "Val Loss: 0.248, Val Accuracy: 91.4%\n",
            "***************************************************\n",
            "\n",
            "Epoch: 9\n",
            "\n",
            "Batch 500, Loss: 0.134, Accuracy: 95.0%\n",
            "Batch 1000, Loss: 0.119, Accuracy: 95.5%\n"
          ]
        }
      ]
    },
    {
      "cell_type": "code",
      "source": [],
      "metadata": {
        "id": "sJ95sBWotl-V"
      },
      "execution_count": null,
      "outputs": []
    }
  ]
}